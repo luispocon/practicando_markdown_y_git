{
 "cells": [
  {
   "cell_type": "markdown",
   "id": "a576af73-1c44-4301-88d6-1f8b0f5c1cd2",
   "metadata": {},
   "source": [
    "<h1><center> Sistemas del control de versiones </center></h1>\n"
   ]
  },
  {
   "cell_type": "markdown",
   "id": "2fb889d2-f33a-4a32-8803-6024d0f86bae",
   "metadata": {},
   "source": [
    "<blockquote> Los sistemas de control de versiones son herramientas que ayudan a realizar versiones del código fuente de algún lenguaje de programación, ayudando a tener un historial de todas las modificaciones que se realicen en el transcurso del tiempo, además se puede realizar modificaciones por otras personas para aportar en mejorar el código fuente o bien buscar una mejor ruta que ayude a optimizar.  </blockquote>"
   ]
  },
  {
   "cell_type": "markdown",
   "id": "f3aedd7e-eb4b-400d-bbbb-30ab920c4fdb",
   "metadata": {},
   "source": [
    " >Una de las ventajas de sistema del control de versiones que se puede mencionar es de que cada cambio que se le realice código fuente, detalla de quien fue el usuario que lo realizó y guarda cada versión en una carpeta, pero además de eso se puede trabajar simultáneamente para resolver en conjunto los problemas que se presentan para optimizar el código."
   ]
  },
  {
   "cell_type": "markdown",
   "id": "ca81b3a7-2a78-4cc2-bcf2-fb2d651414c6",
   "metadata": {},
   "source": [
    "<div class=text-justify> <blockquote> \n",
    "En el transcurso del tiempo familiarizarse con estas herramientas y escribir código fuente puede parecer un poco difícil por el tipo de lenguaje, pero los comandos se pueden aprender en el transcurso de la práctica y así subir contenido para toda una comunidad en donde las personas pueden hacer uso en algún futuro del código, o bien aportar para mejorarlo. Existen diversidad de controladores de versiones, unos de los más utilizado y conocidos es GIT que facilita los flujos de trabajo entre diferentes usuarios y pude optarse un modelo ad-hoc.</blockquote></div>"
   ]
  },
  {
   "cell_type": "markdown",
   "id": "4d07431a-c24b-4393-909b-38b285cfc634",
   "metadata": {},
   "source": [
    "###     ¿Quién diseño GIT?"
   ]
  },
  {
   "cell_type": "markdown",
   "id": "002b77fd-74f5-46ef-9608-1db65b390ad9",
   "metadata": {},
   "source": [
    ">GIT fue diseñado por Linus Torvals, quien también fue el creador del sistema operativo Linux en el año 2005. Fue pensado en guardar distintos cambios en los registros para los desarrolladores de software en front end.\n",
    "En la actualidad es un repositorio libre, que permite llevar el control del registro de diferentes versiones del código fuente y también permite la colaboración en una gran comunidad."
   ]
  },
  {
   "cell_type": "markdown",
   "id": "8b62c9ba-d847-474e-a708-14f05edd30a4",
   "metadata": {},
   "source": [
    "### ¿A qué se le llama repositorio?"
   ]
  },
  {
   "cell_type": "markdown",
   "id": "b1b3018b-f683-49dd-b11f-9813d1f7a41e",
   "metadata": {},
   "source": [
    ">Es el lugar donde se almacenan datos, en donde se encuentran objetos y referencias."
   ]
  },
  {
   "cell_type": "markdown",
   "id": "02562169-355f-4f8e-bd7b-426965e3efff",
   "metadata": {},
   "source": [
    "### ¿Por qué usar GIT?"
   ]
  },
  {
   "cell_type": "markdown",
   "id": "b3d09365-370c-4ed0-bc52-be6c9d3c897f",
   "metadata": {},
   "source": [
    ">GIT te permite con mucha facilidad guardar distintas versiones del código fuente y facilita que otros usuarios te apoyen a mejorar el código sin en algún caso es necesario, ofrece versatilidad al trabajar de manera simultánea con otro usuario."
   ]
  },
  {
   "cell_type": "markdown",
   "id": "4382b895-2935-4e01-a535-fa29ad24bfb4",
   "metadata": {},
   "source": [
    "### Flujo de trabajo Git"
   ]
  },
  {
   "cell_type": "markdown",
   "id": "8007b2b6-998e-461d-ae50-f439171e6078",
   "metadata": {},
   "source": [
    ">Git es un poderoso sistema de control de versiones, y entender cómo funciona es esencial para una colaboración exitosa en proyectos. El flujo de trabajo de Git consta de cuatro etapas: confirmar, enviar, extraer y fusionar."
   ]
  },
  {
   "cell_type": "markdown",
   "id": "c6207487-b043-40de-8f0e-256e6a1aae5f",
   "metadata": {},
   "source": [
    "1. **Confirmar:** cuando trabajan en un proyecto, los desarrolladores realizan cambios en el código y los confirman en el repositorio. La confirmación es una instantánea del proyecto en un momento determinado y se almacena en el repositorio.\n"
   ]
  },
  {
   "cell_type": "markdown",
   "id": "d940e71c-0d97-4d37-b7e6-7c7c86e4c687",
   "metadata": {},
   "source": [
    "2. **Push:** una vez que se realiza una confirmación, los cambios se envían al repositorio. Esto permite que otros desarrolladores vean los cambios y realicen los suyos propios."
   ]
  },
  {
   "cell_type": "markdown",
   "id": "d0bcb145-daad-43a8-9370-1cadec0aeb09",
   "metadata": {},
   "source": [
    "3. **Extraer:** cuando un desarrollador quiere ver los cambios realizados por otros desarrolladores, extrae los cambios del repositorio."
   ]
  },
  {
   "cell_type": "markdown",
   "id": "0caa13d5-10de-4ffd-9bb2-88a54c84b731",
   "metadata": {},
   "source": [
    "4. **Fusionar:** cuando dos o más desarrolladores han realizado cambios en el mismo código, los cambios deben fusionarse. Esto se hace combinando los cambios y resolviendo cualquier conflicto."
   ]
  },
  {
   "cell_type": "markdown",
   "id": "fced1c0f-3195-47e5-b478-e8c132f39d2b",
   "metadata": {},
   "source": [
    "### Herramientas GIT"
   ]
  },
  {
   "cell_type": "markdown",
   "id": "cc796f2b-feb2-442e-adb6-077855f3f88e",
   "metadata": {},
   "source": [
    ">Git es un poderoso sistema de control de versiones y hay una variedad de herramientas disponibles para ayudar a los desarrolladores a trabajar con él. Estas herramientas se pueden usar para administrar repositorios, realizar un seguimiento de los cambios y colaborar con otros desarrolladores. Algunas de las herramientas Git más populares incluyen:"
   ]
  },
  {
   "cell_type": "markdown",
   "id": "3424a1ff-b946-4b5c-bea2-4097492fa1ba",
   "metadata": {},
   "source": [
    "> * ***GitHub:*** GitHub es una popular plataforma en línea que se utiliza para alojar repositorios de Git. Proporciona una interfaz basada en web para ver y administrar repositorios, así como herramientas para colaboración y revisión de código."
   ]
  },
  {
   "cell_type": "markdown",
   "id": "16fa4405-39d2-446a-8c2d-9e9227bb3e63",
   "metadata": {},
   "source": [
    "> * ***GitLab:*** GitLab es un sistema de control de versiones de código abierto con una interfaz basada en web. Permite a los desarrolladores almacenar y administrar repositorios, así como colaborar con otros desarrolladores."
   ]
  },
  {
   "cell_type": "markdown",
   "id": "5b8d83fd-5ae7-4ba0-afa3-dcf5287ea9da",
   "metadata": {},
   "source": [
    "> * ***Atlassian Bitbucket:*** Bitbucket es una plataforma de alojamiento de repositorios en línea que proporciona herramientas para la colaboración y la revisión de código. También proporciona integración con otros productos de Atlassian como Jira y Confluence."
   ]
  },
  {
   "cell_type": "markdown",
   "id": "68036ca7-d52e-41a0-8d13-dac78affe70d",
   "metadata": {},
   "source": [
    "> *Git es un popular sistema de control de versiones que utilizan los desarrolladores de software para rastrear los cambios en el código fuente a lo largo del tiempo. Es una versión distribuida.*"
   ]
  },
  {
   "cell_type": "markdown",
   "id": "60f99018-5810-4411-9487-e7c74db5b39a",
   "metadata": {},
   "source": [
    "### Algunos comandos utilizados en GIT"
   ]
  },
  {
   "cell_type": "markdown",
   "id": "98fb6cff-8b9d-4c2e-b42b-796fc1cb7122",
   "metadata": {},
   "source": [
    "> * **git help <command>:** obtener ayuda para un comando git\n",
    "> * **git init:** crea un nuevo repositorio git, con datos almacenados en el .gitdirectorio\n",
    ">* **git status:** te dice lo que está pasando\n",
    ">* **git add <filename>:** agrega archivos al área de ensayo\n",
    ">* **git commit:** crea una nueva confirmación\n",
    ">* **git log:** muestra un registro aplanado de la historia\n",
    ">* **git log --all --graph --decorate:** visualiza la historia como un DAG\n",
    "> * **git diff filename:** muestra los cambios que realizó en relación con el área de preparación \n",
    "> * **git diff revision filename:** muestra las diferencias en un archivo entre instantáneas\n",
    "> * **git checkout revision:** actualiza HEAD y rama actual"
   ]
  },
  {
   "cell_type": "markdown",
   "id": "10958746-94d1-462b-8ba3-4bd70d7b31f4",
   "metadata": {},
   "source": [
    "> * **git branch:** muestra ramas\n",
    "> * **git branch name:** crea una rama\n",
    "> * **git checkout -b name:** crea una rama y cambia a ella\n",
    "> * **git merge revision:** se fusiona con la rama actual\n",
    "> * **git mergetool:** use una herramienta elegante para ayudar a resolver conflictos de fusión\n",
    "> * **git rebase:** rebase conjunto de parches en una nueva base\n",
    "\n"
   ]
  },
  {
   "cell_type": "markdown",
   "id": "49ccc7eb-c219-41f9-8dd4-37fab3457569",
   "metadata": {},
   "source": [
    "> * **git remote:** lista de controles remotos\n",
    "> * **git remote add name url:** agregar un control remoto\n",
    "> * **git fetch:** recuperar objetos/referencias desde un control remoto\n",
    "> * **git pull:** igual quegit fetch; git merge\n",
    "> * **git clone:** descargar repositorio desde remoto\n"
   ]
  },
  {
   "cell_type": "markdown",
   "id": "fa6ef820-5924-415f-b702-0c95a4db1392",
   "metadata": {},
   "source": [
    "### Instalación de GIT"
   ]
  },
  {
   "cell_type": "markdown",
   "id": "cdee249b-f1f4-44dd-841c-ecbfeb9e8996",
   "metadata": {},
   "source": [
    "\n",
    "<!-- [Text](link) --> \n",
    "[Click en este enlace de como instalar Git para windows](https://phoenixnap.com/kb/how-to-install-git-windows \"Optional Title\")"
   ]
  },
  {
   "cell_type": "markdown",
   "id": "e669b094-483b-4c24-a767-6bb331018cb3",
   "metadata": {},
   "source": [
    "### Configurar GIT "
   ]
  },
  {
   "cell_type": "code",
   "execution_count": null,
   "id": "9ec96167-f21f-4b5f-b9fc-1409ebd2bad1",
   "metadata": {},
   "outputs": [],
   "source": [
    "%%git version  # para conocer la versión que se tiene de GIT instalado"
   ]
  },
  {
   "cell_type": "markdown",
   "id": "d0f8436f-81d9-4134-a386-d0c667a14224",
   "metadata": {},
   "source": [
    "#### 1. Configuración inicial\n"
   ]
  },
  {
   "cell_type": "code",
   "execution_count": null,
   "id": "c49ed746-6ca0-4873-85e9-c6aa1f8b5c46",
   "metadata": {},
   "outputs": [],
   "source": [
    "%%git config --global user.name \"Usuario\" # Para configurar con el nombre\n",
    "%%git config --global user.mail prueba@gmail.com # Para configurar el correo de GIT HUB"
   ]
  },
  {
   "cell_type": "markdown",
   "id": "01e106a5-be7f-40cc-8f6a-e56eccb731b2",
   "metadata": {},
   "source": [
    "#### 2. Configuración del editor de texto"
   ]
  },
  {
   "cell_type": "code",
   "execution_count": null,
   "id": "f687f077-3b77-4ea8-98f5-f7507a4b5755",
   "metadata": {},
   "outputs": [],
   "source": [
    "# Tener instalado Visual Code previamente\n",
    "%%git config --global core.edito \"code --wait\" # \n",
    "\n",
    "%%git config --global -e # Abre el editor (Visual Ccode)\n"
   ]
  },
  {
   "cell_type": "markdown",
   "id": "95d9a345-c3de-4d90-8568-0b735ffc7418",
   "metadata": {},
   "source": [
    "#### 3. Configuración para contribucion de multiples usuarios"
   ]
  },
  {
   "cell_type": "code",
   "execution_count": null,
   "id": "31b8af80-26d3-4d3b-b933-00422686a5e7",
   "metadata": {},
   "outputs": [],
   "source": [
    "%%git config --global core.autocrlf true # Si es en Windows es \"true\" y en Mac input"
   ]
  },
  {
   "cell_type": "markdown",
   "id": "5aa4beec-bd19-483b-89d4-47eaf0027343",
   "metadata": {},
   "source": [
    "#### 4. Configuración del directorio o carpeta dentro del escritorio"
   ]
  },
  {
   "cell_type": "code",
   "execution_count": null,
   "id": "67de71ec-6ff6-4d69-96f4-36f7cda7a743",
   "metadata": {},
   "outputs": [],
   "source": [
    "%%ls # Para ver el directorio\n",
    "%%pwd # Indica el directorio o carpeta de la ubicación donde se encuentra\n",
    "%%cd espacio_de_trabajo/ # para asignar el directorio o carpeta especificamente\n",
    "%%cd .. # Salir del directorio o la carpeta una vez atrás\n",
    "%%mkdir nueva_directorio # Crea otra carpeta dentro del directorio \n",
    "\n",
    "%%git init # Inicia  el repositorio en el directorio asignado con la extensión git\n",
    "\n",
    "%%ls -a # Muestra todos los archivos ocultos\n",
    "\n",
    "%%cd .git # Para trabajar el archivo\n"
   ]
  },
  {
   "cell_type": "markdown",
   "id": "8808ac74-bb11-4750-9344-8bbbb6bc730c",
   "metadata": {},
   "source": [
    "#### 5. Configuración en un repositorio (GitHub)"
   ]
  },
  {
   "cell_type": "markdown",
   "id": "aef5b448-08f8-4194-a7d5-ccd07e81982f",
   "metadata": {},
   "source": [
    "> * Crear un repositorio nuevo y asignarle un nombre\n",
    "> * Seleccionar público\n",
    "> * seleccionar crear repositorio"
   ]
  },
  {
   "cell_type": "markdown",
   "id": "649afafa-9009-4d1b-84d9-883008adee37",
   "metadata": {},
   "source": [
    "#### 6. Subirlo a Git Hub"
   ]
  },
  {
   "cell_type": "markdown",
   "id": "db469c66-232b-4d61-8421-30f344763963",
   "metadata": {},
   "source": [
    "1. Iniciar ***Git Bash Here*** en la carpeta donde se encuentra el código fuente.\n",
    "2. Se abrira la ***consoloa de Git***\n",
    "3. Comando ***git init***\n",
    "4. Comando ***git status*** para verificar si es nuevo o ya tiene algún ***commit***.\n",
    "5. Comando ***git commit -m \"Nuevo commit para el proyecto\"*** subir los cambios al repositorio. \n",
    "6. Comando ***git config --global user.mail prueba@gmail.com*** ingresar con el correo creado.\n",
    "7. Comando ***git config --global user.name \"prueba\"***\n",
    "8. Comando ***git branch -M main*** para subirlo a la principal.\n",
    "9. ***git remote add origin https://github.com/prueba*** para subir el archivo a la ruta específica repositorio creado en GitHub.\n",
    "10.comando ***git push -u origin*** hacer efectiva el código fuente de lo local con lo remoto\n",
    "11. Saldrá una ventada y se tendrpa que dar autorización y confirmar.\n",
    "12. Una vez realizadó los pasos anteriores, el código fuente tiene que estar en el repositorio.\n",
    "\n"
   ]
  },
  {
   "cell_type": "markdown",
   "id": "66b9e68d-16c6-4914-b205-989adda4c0e9",
   "metadata": {},
   "source": [
    "#### Git bash"
   ]
  },
  {
   "cell_type": "markdown",
   "id": "f35445c2-7534-4154-ac88-0020d29c7514",
   "metadata": {},
   "source": [
    "![alt text](git_bash.png \"Title\")"
   ]
  },
  {
   "cell_type": "markdown",
   "id": "57ed83ce-83fe-4ef3-9241-5c33562d08d9",
   "metadata": {},
   "source": [
    "#### Repositorio creado"
   ]
  },
  {
   "cell_type": "markdown",
   "id": "54070ce8-14c6-4c41-95bd-1935e254f82b",
   "metadata": {},
   "source": [
    "![alt text](repositorio.png \"Title\")"
   ]
  },
  {
   "cell_type": "markdown",
   "id": "7fefccd2-c711-4b91-b781-aea7fe327341",
   "metadata": {},
   "source": [
    "\n"
   ]
  },
  {
   "cell_type": "markdown",
   "id": "ea1122b4-bc23-414e-9451-83b51bad1500",
   "metadata": {},
   "source": [
    "### Ejemplo de funciones"
   ]
  },
  {
   "cell_type": "markdown",
   "id": "acec5e5c-0c99-42f3-9fcb-66dbff34a522",
   "metadata": {},
   "source": [
    "> *Los siguientes ejemplos de funciones pueden formar parte de un proyecto, son cargados a un repositorio como GitHub y otras personas pueden aportar en contribuir en mejor el código fuente, pero durante cada \"commit\" será guardada con una versión diferente con las modificaciones realizadas.*"
   ]
  },
  {
   "cell_type": "markdown",
   "id": "496e97fc-fd38-4f66-80c5-493439eb9daa",
   "metadata": {},
   "source": [
    "#### Función para realizar suma, resta, multiplicación y división"
   ]
  },
  {
   "cell_type": "code",
   "execution_count": 1,
   "id": "f75a26db-960f-4f88-b30b-e359740246d1",
   "metadata": {},
   "outputs": [],
   "source": [
    "\n",
    "def operacion(valor1, valor2, operacion_matematica=0):\n",
    "    \"\"\"\" Función que realiza, suma, resta, multiplicación y división\"\"\"\n",
    "   \n",
    "    if operacion_matematica == \"suma\":\n",
    "        return valor1 + valor2\n",
    "    elif operacion_matematica == \"resta\":\n",
    "        return valor1 - valor2\n",
    "    elif operacion_matematica == \"multiplicacion\":\n",
    "        return valor1 * valor2\n",
    "    elif operacion_matematica == \"division\":\n",
    "        if valor2 == 0:\n",
    "            print(\"ingrese un valor > 1, no se puede operar 1 / 0 \")\n",
    "        else:\n",
    "            return valor1 / valor2\n",
    "    else:\n",
    "        print(\"Especifique una operación matemática, suma / resta / multiplicacion / division  \")\n"
   ]
  },
  {
   "cell_type": "code",
   "execution_count": 2,
   "id": "b0df183f-017c-46bf-95d2-821136736e3b",
   "metadata": {},
   "outputs": [
    {
     "name": "stdout",
     "output_type": "stream",
     "text": [
      "8\n",
      "0\n",
      "16\n",
      "1.0\n"
     ]
    }
   ],
   "source": [
    "print(operacion(4, 4,\"suma\"))\n",
    "print(operacion(4, 4,\"resta\"))\n",
    "print(operacion(4, 4,\"multiplicacion\"))\n",
    "print(operacion(4, 4,\"division\"))"
   ]
  },
  {
   "cell_type": "markdown",
   "id": "8d3cc5df-6bb1-4533-bf57-64d03ea4f44b",
   "metadata": {},
   "source": [
    "#### Función para convertir dos series en un Data Frame"
   ]
  },
  {
   "cell_type": "code",
   "execution_count": 11,
   "id": "3e0a4171-3afe-4e95-88f5-35ee36393201",
   "metadata": {},
   "outputs": [],
   "source": [
    "# Librerias para importar\n",
    "import numpy as np\n",
    "import pandas as pd"
   ]
  },
  {
   "cell_type": "code",
   "execution_count": 12,
   "id": "c97fe8d1-50a9-4db0-9b68-4894d027b4df",
   "metadata": {},
   "outputs": [],
   "source": [
    "def limpieza(valor1, valor2 ):\n",
    "    \"\"\" Función que convierte valores a Data frame \"\"\"\n",
    "    if (valor1 == 0) and (valor2 == 0):\n",
    "        print(\"Favor ingrese un valor > 1, en ambas casillas\")\n",
    "    elif valor1 == 0:\n",
    "        print(\"Favor ingrese un valor > 1, en la casilla del valor 1\" )\n",
    "    elif valor2 == 0:\n",
    "        print(\"Favor ingrese un valor > 1, en la casilla del valor 2\")\n",
    "    else:\n",
    "       \n",
    "        lista = list(np.random.randint(0,valor1, size= 10)) \n",
    "        lista2 = list(np.random.randint(0,valor2, size= 10))  \n",
    "        df = pd.DataFrame()\n",
    "        df[\"columna1\"] =  pd.Series(lista)\n",
    "        df[\"columna2\"] =  pd.Series(lista2)\n",
    "       \n",
    "        return df"
   ]
  },
  {
   "cell_type": "code",
   "execution_count": 13,
   "id": "c4e3a166-ee96-4914-9552-720b0b248060",
   "metadata": {},
   "outputs": [
    {
     "name": "stdout",
     "output_type": "stream",
     "text": [
      "   columna1  columna2\n",
      "0        23        14\n",
      "1        13         6\n",
      "2        11         4\n",
      "3        24         1\n",
      "4         3         1\n",
      "5        24         2\n",
      "6        15        14\n",
      "7         2        10\n",
      "8        14         5\n",
      "9        17         1\n"
     ]
    }
   ],
   "source": [
    "print(limpieza(25, 15 ))"
   ]
  },
  {
   "cell_type": "code",
   "execution_count": null,
   "id": "7480235f-b8f1-49b3-9268-7296ab96c8d1",
   "metadata": {},
   "outputs": [],
   "source": []
  },
  {
   "cell_type": "code",
   "execution_count": null,
   "id": "683f6c0e-783d-4eae-b68f-8e610b8a6252",
   "metadata": {},
   "outputs": [],
   "source": []
  }
 ],
 "metadata": {
  "kernelspec": {
   "display_name": "Python 3 (ipykernel)",
   "language": "python",
   "name": "python3"
  },
  "language_info": {
   "codemirror_mode": {
    "name": "ipython",
    "version": 3
   },
   "file_extension": ".py",
   "mimetype": "text/x-python",
   "name": "python",
   "nbconvert_exporter": "python",
   "pygments_lexer": "ipython3",
   "version": "3.9.7"
  }
 },
 "nbformat": 4,
 "nbformat_minor": 5
}
